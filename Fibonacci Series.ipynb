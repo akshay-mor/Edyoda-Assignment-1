{
 "cells": [
  {
   "cell_type": "code",
   "execution_count": 11,
   "id": "d41d2f63",
   "metadata": {},
   "outputs": [
    {
     "name": "stdout",
     "output_type": "stream",
     "text": [
      "Enter the number upto which series to be print: 10\n",
      "0\n",
      "1\n",
      "1\n",
      "\n",
      "2\n",
      "\n",
      "3\n",
      "\n",
      "5\n",
      "\n",
      "8\n",
      "\n",
      "13\n",
      "\n",
      "21\n",
      "\n",
      "34\n",
      "\n"
     ]
    }
   ],
   "source": [
    "#Question:1 Fibonacci Series\n",
    "n=int(input(\"Enter the number upto which series to be print: \"))\n",
    "a=0\n",
    "b=1\n",
    "if n<=0:\n",
    "    print(\"Please enter the number greater than zero\")\n",
    "else:\n",
    "    print(a)\n",
    "    print(b)\n",
    "    for i in range(2, n):\n",
    "        c=a+b\n",
    "        a=b\n",
    "        b=c\n",
    "        print(c)"
   ]
  },
  {
   "cell_type": "code",
   "execution_count": null,
   "id": "929b17a3",
   "metadata": {},
   "outputs": [],
   "source": []
  },
  {
   "cell_type": "code",
   "execution_count": null,
   "id": "3017cd2c",
   "metadata": {},
   "outputs": [],
   "source": []
  }
 ],
 "metadata": {
  "kernelspec": {
   "display_name": "Python 3 (ipykernel)",
   "language": "python",
   "name": "python3"
  },
  "language_info": {
   "codemirror_mode": {
    "name": "ipython",
    "version": 3
   },
   "file_extension": ".py",
   "mimetype": "text/x-python",
   "name": "python",
   "nbconvert_exporter": "python",
   "pygments_lexer": "ipython3",
   "version": "3.9.12"
  }
 },
 "nbformat": 4,
 "nbformat_minor": 5
}
