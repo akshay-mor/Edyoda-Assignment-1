{
 "cells": [
  {
   "cell_type": "code",
   "execution_count": 19,
   "id": "5fb5fc91",
   "metadata": {},
   "outputs": [
    {
     "name": "stdout",
     "output_type": "stream",
     "text": [
      "Even:  4\n",
      "Odd  5\n"
     ]
    }
   ],
   "source": [
    "#Question 3: Number of Even Odd Number\n",
    "l = [1, 2, 3, 4, 5, 6, 7, 8, 9]\n",
    "even=0\n",
    "odd=0\n",
    "for i in l:\n",
    "    if i%2==0:\n",
    "        even=even+1\n",
    "    else:\n",
    "        odd=odd+1\n",
    "print(\"Even: \", even)\n",
    "print(\"Odd \", odd)"
   ]
  },
  {
   "cell_type": "code",
   "execution_count": null,
   "id": "c31756e3",
   "metadata": {},
   "outputs": [],
   "source": []
  },
  {
   "cell_type": "code",
   "execution_count": null,
   "id": "7be87ec7",
   "metadata": {},
   "outputs": [],
   "source": []
  }
 ],
 "metadata": {
  "kernelspec": {
   "display_name": "Python 3 (ipykernel)",
   "language": "python",
   "name": "python3"
  },
  "language_info": {
   "codemirror_mode": {
    "name": "ipython",
    "version": 3
   },
   "file_extension": ".py",
   "mimetype": "text/x-python",
   "name": "python",
   "nbconvert_exporter": "python",
   "pygments_lexer": "ipython3",
   "version": "3.9.12"
  }
 },
 "nbformat": 4,
 "nbformat_minor": 5
}
